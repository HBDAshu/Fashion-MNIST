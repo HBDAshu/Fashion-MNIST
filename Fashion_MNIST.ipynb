{
  "nbformat": 4,
  "nbformat_minor": 0,
  "metadata": {
    "colab": {
      "name": "Fashion-MNIST.ipynb",
      "version": "0.3.2",
      "provenance": [],
      "include_colab_link": true
    },
    "kernelspec": {
      "name": "python3",
      "display_name": "Python 3"
    }
  },
  "cells": [
    {
      "cell_type": "markdown",
      "metadata": {
        "id": "view-in-github",
        "colab_type": "text"
      },
      "source": [
        "<a href=\"https://colab.research.google.com/github/adarshanand2327/Fashion-MNIST/blob/master/Fashion_MNIST.ipynb\" target=\"_parent\"><img src=\"https://colab.research.google.com/assets/colab-badge.svg\" alt=\"Open In Colab\"/></a>"
      ]
    },
    {
      "cell_type": "code",
      "metadata": {
        "id": "K1dpHI30R_k8",
        "colab_type": "code",
        "colab": {}
      },
      "source": [
        "import torch\n",
        "from torchvision import datasets, transforms\n",
        "import matplotlib.pyplot as plt"
      ],
      "execution_count": 0,
      "outputs": []
    },
    {
      "cell_type": "code",
      "metadata": {
        "id": "ZnN_7mZeS4iv",
        "colab_type": "code",
        "outputId": "00771028-eae3-4591-f7f0-c57195bedef3",
        "colab": {
          "base_uri": "https://localhost:8080/",
          "height": 541
        }
      },
      "source": [
        "transform = transforms.Compose([transforms.ToTensor(), transforms.Normalize((0.5, ), (0.5, ))])\n",
        "trainset = datasets.FashionMNIST(\"fashion_MNIST\", train = True, transform=transform, download = True)\n",
        "trainloader = torch.utils.data.DataLoader(trainset, batch_size= 64, shuffle=True)\n",
        "\n",
        "testset = datasets.FashionMNIST(\"fashion_MNIST\", train=False, transform=transform, download=True)\n",
        "testloader = torch.utils.data.DataLoader(testset, batch_size=64, shuffle = True)\n",
        "\n",
        "dataIter = iter(trainloader)\n",
        "images, labels = dataIter.next()\n",
        "plt.imshow(images[0].numpy().squeeze(), cmap = 'Greys_r')\n",
        "print(labels[0])"
      ],
      "execution_count": 2,
      "outputs": [
        {
          "output_type": "stream",
          "text": [
            "\r0it [00:00, ?it/s]"
          ],
          "name": "stderr"
        },
        {
          "output_type": "stream",
          "text": [
            "Downloading http://fashion-mnist.s3-website.eu-central-1.amazonaws.com/train-images-idx3-ubyte.gz to fashion_MNIST/FashionMNIST/raw/train-images-idx3-ubyte.gz\n"
          ],
          "name": "stdout"
        },
        {
          "output_type": "stream",
          "text": [
            "26427392it [00:02, 10984337.05it/s]                             \n"
          ],
          "name": "stderr"
        },
        {
          "output_type": "stream",
          "text": [
            "Extracting fashion_MNIST/FashionMNIST/raw/train-images-idx3-ubyte.gz\n"
          ],
          "name": "stdout"
        },
        {
          "output_type": "stream",
          "text": [
            "\r0it [00:00, ?it/s]"
          ],
          "name": "stderr"
        },
        {
          "output_type": "stream",
          "text": [
            "Downloading http://fashion-mnist.s3-website.eu-central-1.amazonaws.com/train-labels-idx1-ubyte.gz to fashion_MNIST/FashionMNIST/raw/train-labels-idx1-ubyte.gz\n"
          ],
          "name": "stdout"
        },
        {
          "output_type": "stream",
          "text": [
            "32768it [00:00, 71166.10it/s]                            \n",
            "0it [00:00, ?it/s]"
          ],
          "name": "stderr"
        },
        {
          "output_type": "stream",
          "text": [
            "Extracting fashion_MNIST/FashionMNIST/raw/train-labels-idx1-ubyte.gz\n",
            "Downloading http://fashion-mnist.s3-website.eu-central-1.amazonaws.com/t10k-images-idx3-ubyte.gz to fashion_MNIST/FashionMNIST/raw/t10k-images-idx3-ubyte.gz\n"
          ],
          "name": "stdout"
        },
        {
          "output_type": "stream",
          "text": [
            "4423680it [00:01, 2954772.22it/s]                            \n",
            "0it [00:00, ?it/s]"
          ],
          "name": "stderr"
        },
        {
          "output_type": "stream",
          "text": [
            "Extracting fashion_MNIST/FashionMNIST/raw/t10k-images-idx3-ubyte.gz\n",
            "Downloading http://fashion-mnist.s3-website.eu-central-1.amazonaws.com/t10k-labels-idx1-ubyte.gz to fashion_MNIST/FashionMNIST/raw/t10k-labels-idx1-ubyte.gz\n"
          ],
          "name": "stdout"
        },
        {
          "output_type": "stream",
          "text": [
            "8192it [00:00, 27153.05it/s]            \n"
          ],
          "name": "stderr"
        },
        {
          "output_type": "stream",
          "text": [
            "Extracting fashion_MNIST/FashionMNIST/raw/t10k-labels-idx1-ubyte.gz\n",
            "Processing...\n",
            "Done!\n",
            "tensor(2)\n"
          ],
          "name": "stdout"
        },
        {
          "output_type": "display_data",
          "data": {
            "image/png": "[encoded data removed]",
            "text/plain": [
              "<Figure size 432x288 with 1 Axes>"
            ]
          },
          "metadata": {
            "tags": []
          }
        }
      ]
    },
    {
      "cell_type": "code",
      "metadata": {
        "id": "kYNBtF8PhTPy",
        "colab_type": "code",
        "colab": {}
      },
      "source": [
        "import torch.nn as nn\n",
        "from torch import optim\n",
        "import torch.nn.functional as F\n",
        "class classifier(nn.Module):\n",
        "  def __init__(self):\n",
        "    super().__init__()\n",
        "    self.hidden1 = nn.Linear(784, 256)\n",
        "    self.hidden2 = nn.Linear(256, 128)\n",
        "    self.hidden3 = nn.Linear(128, 64)\n",
        "    self.output = nn.Linear(64, 10)\n",
        "    self.dropout = nn.Dropout(p=0.2)\n",
        "  def forward(self, x):\n",
        "   \n",
        "    x = self.dropout(F.relu(self.hidden1(x)))\n",
        "    x = self.dropout(F.relu(self.hidden2(x)))\n",
        "    x = self.dropout(F.relu(self.hidden3(x)))\n",
        "    x = F.log_softmax(self.output(x), dim=1)\n",
        "    \n",
        "    return x"
      ],
      "execution_count": 0,
      "outputs": []
    },
    {
      "cell_type": "code",
      "metadata": {
        "id": "GLIp4kIl0Hod",
        "colab_type": "code",
        "colab": {}
      },
      "source": [
        "model = classifier()\n",
        "criterion = nn.CrossEntropyLoss()\n",
        "optimizer = optim.Adam(model.parameters(), lr=0.003)"
      ],
      "execution_count": 0,
      "outputs": []
    },
    {
      "cell_type": "code",
      "metadata": {
        "id": "80fTOAqkhzFu",
        "colab_type": "code",
        "outputId": "9c224c82-99ba-4e3f-c68b-486f7fbece19",
        "colab": {
          "base_uri": "https://localhost:8080/",
          "height": 134
        }
      },
      "source": [
        "model"
      ],
      "execution_count": 5,
      "outputs": [
        {
          "output_type": "execute_result",
          "data": {
            "text/plain": [
              "classifier(\n",
              "  (hidden1): Linear(in_features=784, out_features=256, bias=True)\n",
              "  (hidden2): Linear(in_features=256, out_features=128, bias=True)\n",
              "  (hidden3): Linear(in_features=128, out_features=64, bias=True)\n",
              "  (output): Linear(in_features=64, out_features=10, bias=True)\n",
              "  (dropout): Dropout(p=0.2)\n",
              ")"
            ]
          },
          "metadata": {
            "tags": []
          },
          "execution_count": 5
        }
      ]
    },
    {
      "cell_type": "code",
      "metadata": {
        "id": "IEGgCHGpkpfY",
        "colab_type": "code",
        "outputId": "86a98786-7995-48fe-baba-5de18a941fdb",
        "colab": {
          "base_uri": "https://localhost:8080/",
          "height": 689
        }
      },
      "source": [
        "epochs = 20\n",
        "for e in range(epochs):\n",
        "  running_loss = 0\n",
        "  for images, labels in trainloader:\n",
        "    images = images.view(images.shape[0], -1)\n",
        "    prediction = model(images)\n",
        "    optimizer.zero_grad()\n",
        "    loss = criterion(prediction, labels)\n",
        "    loss.backward()\n",
        "    optimizer.step()\n",
        "    running_loss += loss.item()\n",
        "\n",
        "  print(f\"Training loss:  {running_loss/len(trainloader)}\")\n",
        "  correct = 0\n",
        "  total = 0\n",
        "  with torch.no_grad():\n",
        "    for images, labels in testloader:\n",
        "      images = images.view(images.shape[0], -1)\n",
        "      outputs = model(images)\n",
        "      _, pred = torch.max(outputs.data, 1)\n",
        "      total += labels.size(0)\n",
        "      correct += (pred == labels).sum().item()\n",
        "    print('Accuracy:', correct/total)"
      ],
      "execution_count": 10,
      "outputs": [
        {
          "output_type": "stream",
          "text": [
            "Training loss:  0.3823780888624029\n",
            "Accuracy: 0.8462\n",
            "Training loss:  0.3714196678481376\n",
            "Accuracy: 0.853\n",
            "Training loss:  0.3759099246660021\n",
            "Accuracy: 0.8449\n",
            "Training loss:  0.3717298862029876\n",
            "Accuracy: 0.8531\n",
            "Training loss:  0.36636556169466933\n",
            "Accuracy: 0.8572\n",
            "Training loss:  0.3653189460796588\n",
            "Accuracy: 0.8539\n",
            "Training loss:  0.362721811003014\n",
            "Accuracy: 0.8505\n",
            "Training loss:  0.3591333365262444\n",
            "Accuracy: 0.8483\n",
            "Training loss:  0.3588864745806529\n",
            "Accuracy: 0.8544\n",
            "Training loss:  0.36392952365947684\n",
            "Accuracy: 0.8501\n",
            "Training loss:  0.35377908075478537\n",
            "Accuracy: 0.8596\n",
            "Training loss:  0.35124162455865826\n",
            "Accuracy: 0.8497\n",
            "Training loss:  0.3471319661783511\n",
            "Accuracy: 0.8565\n",
            "Training loss:  0.34137591429706066\n",
            "Accuracy: 0.8527\n",
            "Training loss:  0.35189166124949833\n",
            "Accuracy: 0.8503\n",
            "Training loss:  0.3417071346948142\n",
            "Accuracy: 0.8623\n",
            "Training loss:  0.34444358412708553\n",
            "Accuracy: 0.8543\n",
            "Training loss:  0.3451081605306439\n",
            "Accuracy: 0.8553\n",
            "Training loss:  0.3494975119988039\n",
            "Accuracy: 0.8436\n",
            "Training loss:  0.33563691307740934\n",
            "Accuracy: 0.8584\n"
          ],
          "name": "stdout"
        }
      ]
    },
    {
      "cell_type": "code",
      "metadata": {
        "id": "w0vOz-MHbQbO",
        "colab_type": "code",
        "colab": {}
      },
      "source": [
        "checkpoint = {'input_size': 784,\n",
        "              'output_size': 10,\n",
        "            'hidden_layers': [each.out_features for each in model.hidden_layers],\n",
        "            'state_dict': model.state_dict()}\n",
        "torch.save(checkpoint, 'checkpoint.pth')            "
      ],
      "execution_count": 0,
      "outputs": []
    }
  ]
}