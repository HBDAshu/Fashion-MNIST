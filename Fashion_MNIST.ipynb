{
  "nbformat": 4,
  "nbformat_minor": 0,
  "metadata": {
    "colab": {
      "name": "Fashion-MNIST.ipynb",
      "version": "0.3.2",
      "provenance": [],
      "include_colab_link": true
    },
    "kernelspec": {
      "name": "python3",
      "display_name": "Python 3"
    }
  },
  "cells": [
    {
      "cell_type": "markdown",
      "metadata": {
        "id": "view-in-github",
        "colab_type": "text"
      },
      "source": [
        "<a href=\"https://colab.research.google.com/github/adarshanand2327/Fashion-MNIST/blob/master/Fashion_MNIST.ipynb\" target=\"_parent\"><img src=\"https://colab.research.google.com/assets/colab-badge.svg\" alt=\"Open In Colab\"/></a>"
      ]
    },
    {
      "cell_type": "code",
      "metadata": {
        "id": "K1dpHI30R_k8",
        "colab_type": "code",
        "colab": {}
      },
      "source": [
        "import torch\n",
        "from torchvision import datasets, transforms\n",
        "import matplotlib.pyplot as plt"
      ],
      "execution_count": 0,
      "outputs": []
    },
    {
      "cell_type": "code",
      "metadata": {
        "id": "ZnN_7mZeS4iv",
        "colab_type": "code",
        "outputId": "ca016360-aad3-4a1f-df57-1fc915a67971",
        "colab": {
          "base_uri": "https://localhost:8080/",
          "height": 541
        }
      },
      "source": [
        "#importing the dataset\n",
        "transform = transforms.Compose([transforms.ToTensor(), transforms.Normalize((0.5, ), (0.5, ))])\n",
        "trainset = datasets.FashionMNIST(\"fashion_MNIST\", train = True, transform=transform, download = True)\n",
        "trainloader = torch.utils.data.DataLoader(trainset, batch_size= 64, shuffle=True)\n",
        "\n",
        "testset = datasets.FashionMNIST(\"fashion_MNIST\", train=False, transform=transform, download=True)\n",
        "testloader = torch.utils.data.DataLoader(testset, batch_size=64, shuffle = True)\n",
        "\n",
        "dataIter = iter(trainloader)\n",
        "images, labels = dataIter.next()\n",
        "plt.imshow(images[0].numpy().squeeze(), cmap = 'Greys_r')\n",
        "print(labels[0])"
      ],
      "execution_count": 2,
      "outputs": [
        {
          "output_type": "stream",
          "text": [
            "\r0it [00:00, ?it/s]"
          ],
          "name": "stderr"
        },
        {
          "output_type": "stream",
          "text": [
            "Downloading http://fashion-mnist.s3-website.eu-central-1.amazonaws.com/train-images-idx3-ubyte.gz to fashion_MNIST/FashionMNIST/raw/train-images-idx3-ubyte.gz\n"
          ],
          "name": "stdout"
        },
        {
          "output_type": "stream",
          "text": [
            "26427392it [00:01, 14580912.01it/s]                              \n"
          ],
          "name": "stderr"
        },
        {
          "output_type": "stream",
          "text": [
            "Extracting fashion_MNIST/FashionMNIST/raw/train-images-idx3-ubyte.gz\n"
          ],
          "name": "stdout"
        },
        {
          "output_type": "stream",
          "text": [
            "\r0it [00:00, ?it/s]"
          ],
          "name": "stderr"
        },
        {
          "output_type": "stream",
          "text": [
            "Downloading http://fashion-mnist.s3-website.eu-central-1.amazonaws.com/train-labels-idx1-ubyte.gz to fashion_MNIST/FashionMNIST/raw/train-labels-idx1-ubyte.gz\n"
          ],
          "name": "stdout"
        },
        {
          "output_type": "stream",
          "text": [
            "32768it [00:00, 100067.02it/s]                           \n",
            "0it [00:00, ?it/s]"
          ],
          "name": "stderr"
        },
        {
          "output_type": "stream",
          "text": [
            "Extracting fashion_MNIST/FashionMNIST/raw/train-labels-idx1-ubyte.gz\n",
            "Downloading http://fashion-mnist.s3-website.eu-central-1.amazonaws.com/t10k-images-idx3-ubyte.gz to fashion_MNIST/FashionMNIST/raw/t10k-images-idx3-ubyte.gz\n"
          ],
          "name": "stdout"
        },
        {
          "output_type": "stream",
          "text": [
            "4423680it [00:01, 4386151.53it/s]                            \n",
            "0it [00:00, ?it/s]"
          ],
          "name": "stderr"
        },
        {
          "output_type": "stream",
          "text": [
            "Extracting fashion_MNIST/FashionMNIST/raw/t10k-images-idx3-ubyte.gz\n",
            "Downloading http://fashion-mnist.s3-website.eu-central-1.amazonaws.com/t10k-labels-idx1-ubyte.gz to fashion_MNIST/FashionMNIST/raw/t10k-labels-idx1-ubyte.gz\n"
          ],
          "name": "stdout"
        },
        {
          "output_type": "stream",
          "text": [
            "8192it [00:00, 35742.88it/s]            \n"
          ],
          "name": "stderr"
        },
        {
          "output_type": "stream",
          "text": [
            "Extracting fashion_MNIST/FashionMNIST/raw/t10k-labels-idx1-ubyte.gz\n",
            "Processing...\n",
            "Done!\n",
            "tensor(2)\n"
          ],
          "name": "stdout"
        },
        {
          "output_type": "display_data",
          "data": {
            "image/png": "[encoded data removed]",
            "text/plain": [
              "<Figure size 432x288 with 1 Axes>"
            ]
          },
          "metadata": {
            "tags": []
          }
        }
      ]
    },
    {
      "cell_type": "code",
      "metadata": {
        "id": "kYNBtF8PhTPy",
        "colab_type": "code",
        "colab": {}
      },
      "source": [
        "import torch.nn as nn\n",
        "from torch import optim\n",
        "import torch.nn.functional as F\n",
        "#defining the architecture\n",
        "class classifier(nn.Module):\n",
        "  def __init__(self):\n",
        "    super().__init__()\n",
        "    self.hidden1 = nn.Linear(784, 256)\n",
        "    self.hidden2 = nn.Linear(256, 128)\n",
        "    self.hidden3 = nn.Linear(128, 64)\n",
        "    self.output = nn.Linear(64, 10)\n",
        "    self.dropout = nn.Dropout(p=0.2)\n",
        "  def forward(self, x):\n",
        "   \n",
        "    x = self.dropout(F.relu(self.hidden1(x)))\n",
        "    x = self.dropout(F.relu(self.hidden2(x)))\n",
        "    x = self.dropout(F.relu(self.hidden3(x)))\n",
        "    x = F.log_softmax(self.output(x), dim=1)\n",
        "    \n",
        "    return x"
      ],
      "execution_count": 0,
      "outputs": []
    },
    {
      "cell_type": "code",
      "metadata": {
        "id": "GLIp4kIl0Hod",
        "colab_type": "code",
        "colab": {}
      },
      "source": [
        "model = classifier()\n",
        "criterion = nn.CrossEntropyLoss()\n",
        "optimizer = optim.Adam(model.parameters(), lr=0.003)"
      ],
      "execution_count": 0,
      "outputs": []
    },
    {
      "cell_type": "code",
      "metadata": {
        "id": "80fTOAqkhzFu",
        "colab_type": "code",
        "outputId": "14f57e30-b1b3-4010-8ebd-1cde4c4a9e83",
        "colab": {
          "base_uri": "https://localhost:8080/",
          "height": 134
        }
      },
      "source": [
        "model"
      ],
      "execution_count": 5,
      "outputs": [
        {
          "output_type": "execute_result",
          "data": {
            "text/plain": [
              "classifier(\n",
              "  (hidden1): Linear(in_features=784, out_features=256, bias=True)\n",
              "  (hidden2): Linear(in_features=256, out_features=128, bias=True)\n",
              "  (hidden3): Linear(in_features=128, out_features=64, bias=True)\n",
              "  (output): Linear(in_features=64, out_features=10, bias=True)\n",
              "  (dropout): Dropout(p=0.2)\n",
              ")"
            ]
          },
          "metadata": {
            "tags": []
          },
          "execution_count": 5
        }
      ]
    },
    {
      "cell_type": "code",
      "metadata": {
        "id": "IEGgCHGpkpfY",
        "colab_type": "code",
        "outputId": "cfa0e76c-028e-4c80-be92-e4662c276897",
        "colab": {
          "base_uri": "https://localhost:8080/",
          "height": 689
        }
      },
      "source": [
        "#Training\n",
        "epochs = 20\n",
        "for e in range(epochs):\n",
        "  running_loss = 0\n",
        "  for images, labels in trainloader:\n",
        "    images = images.view(images.shape[0], -1)\n",
        "    prediction = model(images)\n",
        "    optimizer.zero_grad()\n",
        "    loss = criterion(prediction, labels)\n",
        "    loss.backward()\n",
        "    optimizer.step()\n",
        "    running_loss += loss.item()\n",
        "\n",
        "  print(f\"Training loss:  {running_loss/len(trainloader)}\")\n",
        "  correct = 0\n",
        "  total = 0\n",
        "  #testing\n",
        "  with torch.no_grad():\n",
        "    for images, labels in testloader:\n",
        "      images = images.view(images.shape[0], -1)\n",
        "      outputs = model(images)\n",
        "      _, pred = torch.max(outputs.data, 1)\n",
        "      total += labels.size(0)\n",
        "      correct += (pred == labels).sum().item()\n",
        "    print('Accuracy:', correct/total)"
      ],
      "execution_count": 6,
      "outputs": [
        {
          "output_type": "stream",
          "text": [
            "Training loss:  0.6020395472677532\n",
            "Accuracy: 0.8138\n",
            "Training loss:  0.4795336050551329\n",
            "Accuracy: 0.8254\n",
            "Training loss:  0.4487933322691968\n",
            "Accuracy: 0.8327\n",
            "Training loss:  0.4327408466289547\n",
            "Accuracy: 0.8431\n",
            "Training loss:  0.41702215594332864\n",
            "Accuracy: 0.8385\n",
            "Training loss:  0.41376257106375847\n",
            "Accuracy: 0.842\n",
            "Training loss:  0.40414835628606616\n",
            "Accuracy: 0.8324\n",
            "Training loss:  0.3960678102746447\n",
            "Accuracy: 0.8514\n",
            "Training loss:  0.3898458478293185\n",
            "Accuracy: 0.8459\n",
            "Training loss:  0.3884962426383358\n",
            "Accuracy: 0.8469\n",
            "Training loss:  0.3850099197439929\n",
            "Accuracy: 0.8475\n",
            "Training loss:  0.3783735146781783\n",
            "Accuracy: 0.843\n",
            "Training loss:  0.37708085882606535\n",
            "Accuracy: 0.848\n",
            "Training loss:  0.37684635785438103\n",
            "Accuracy: 0.8484\n",
            "Training loss:  0.37654402080788285\n",
            "Accuracy: 0.8567\n",
            "Training loss:  0.3651163431563611\n",
            "Accuracy: 0.8497\n",
            "Training loss:  0.3718506578109793\n",
            "Accuracy: 0.8486\n",
            "Training loss:  0.3671393369846761\n",
            "Accuracy: 0.8509\n",
            "Training loss:  0.3661552422733576\n",
            "Accuracy: 0.8576\n",
            "Training loss:  0.3598318369562692\n",
            "Accuracy: 0.8289\n"
          ],
          "name": "stdout"
        }
      ]
    },
    {
      "cell_type": "code",
      "metadata": {
        "id": "w0vOz-MHbQbO",
        "colab_type": "code",
        "colab": {
          "base_uri": "https://localhost:8080/",
          "height": 346
        },
        "outputId": "453abdbe-d32a-4265-9edb-6b0dc1bcd676"
      },
      "source": [
        "#saving the model\n",
        "checkpoint = {'input_size': 784,\n",
        "              'output_size': 10,\n",
        "            'hidden_layers': [each.out_features for each in model.hidden_layers],\n",
        "            'state_dict': model.state_dict()}\n",
        "torch.save(checkpoint, 'checkpoint.pth')            "
      ],
      "execution_count": 7,
      "outputs": [
        {
          "output_type": "error",
          "ename": "AttributeError",
          "evalue": "ignored",
          "traceback": [
            "\u001b[0;31m---------------------------------------------------------------------------\u001b[0m",
            "\u001b[0;31mAttributeError\u001b[0m                            Traceback (most recent call last)",
            "\u001b[0;32m<ipython-input-7-79025aa736d1>\u001b[0m in \u001b[0;36m<module>\u001b[0;34m()\u001b[0m\n\u001b[1;32m      1\u001b[0m checkpoint = {'input_size': 784,\n\u001b[1;32m      2\u001b[0m               \u001b[0;34m'output_size'\u001b[0m\u001b[0;34m:\u001b[0m \u001b[0;36m10\u001b[0m\u001b[0;34m,\u001b[0m\u001b[0;34m\u001b[0m\u001b[0;34m\u001b[0m\u001b[0m\n\u001b[0;32m----> 3\u001b[0;31m             \u001b[0;34m'hidden_layers'\u001b[0m\u001b[0;34m:\u001b[0m \u001b[0;34m[\u001b[0m\u001b[0meach\u001b[0m\u001b[0;34m.\u001b[0m\u001b[0mout_features\u001b[0m \u001b[0;32mfor\u001b[0m \u001b[0meach\u001b[0m \u001b[0;32min\u001b[0m \u001b[0mmodel\u001b[0m\u001b[0;34m.\u001b[0m\u001b[0mhidden_layers\u001b[0m\u001b[0;34m]\u001b[0m\u001b[0;34m,\u001b[0m\u001b[0;34m\u001b[0m\u001b[0;34m\u001b[0m\u001b[0m\n\u001b[0m\u001b[1;32m      4\u001b[0m             'state_dict': model.state_dict()}\n\u001b[1;32m      5\u001b[0m \u001b[0mtorch\u001b[0m\u001b[0;34m.\u001b[0m\u001b[0msave\u001b[0m\u001b[0;34m(\u001b[0m\u001b[0mcheckpoint\u001b[0m\u001b[0;34m,\u001b[0m \u001b[0;34m'checkpoint.pth'\u001b[0m\u001b[0;34m)\u001b[0m\u001b[0;34m\u001b[0m\u001b[0;34m\u001b[0m\u001b[0m\n",
            "\u001b[0;32m/usr/local/lib/python3.6/dist-packages/torch/nn/modules/module.py\u001b[0m in \u001b[0;36m__getattr__\u001b[0;34m(self, name)\u001b[0m\n\u001b[1;32m    537\u001b[0m                 \u001b[0;32mreturn\u001b[0m \u001b[0mmodules\u001b[0m\u001b[0;34m[\u001b[0m\u001b[0mname\u001b[0m\u001b[0;34m]\u001b[0m\u001b[0;34m\u001b[0m\u001b[0;34m\u001b[0m\u001b[0m\n\u001b[1;32m    538\u001b[0m         raise AttributeError(\"'{}' object has no attribute '{}'\".format(\n\u001b[0;32m--> 539\u001b[0;31m             type(self).__name__, name))\n\u001b[0m\u001b[1;32m    540\u001b[0m \u001b[0;34m\u001b[0m\u001b[0m\n\u001b[1;32m    541\u001b[0m     \u001b[0;32mdef\u001b[0m \u001b[0m__setattr__\u001b[0m\u001b[0;34m(\u001b[0m\u001b[0mself\u001b[0m\u001b[0;34m,\u001b[0m \u001b[0mname\u001b[0m\u001b[0;34m,\u001b[0m \u001b[0mvalue\u001b[0m\u001b[0;34m)\u001b[0m\u001b[0;34m:\u001b[0m\u001b[0;34m\u001b[0m\u001b[0;34m\u001b[0m\u001b[0m\n",
            "\u001b[0;31mAttributeError\u001b[0m: 'classifier' object has no attribute 'hidden_layers'"
          ]
        }
      ]
    }
  ]
}